{
 "cells": [
  {
   "cell_type": "markdown",
   "metadata": {
    "id": "ULJ7cD1YAhYe"
   },
   "source": [
    "# Day & Night Prediction Model"
   ]
  },
  {
   "cell_type": "markdown",
   "metadata": {
    "id": "4RaiQ2hsAhYj"
   },
   "source": [
    "Import Computer Vision and Machine Learning libaries"
   ]
  },
  {
   "cell_type": "code",
   "execution_count": 1,
   "metadata": {
    "id": "8FgHUlAnAhYk"
   },
   "outputs": [],
   "source": [
    "import numpy as np\n",
    "import cv2 as cv\n",
    "import matplotlib.pyplot as plt\n",
    "import os\n",
    "import glob\n",
    "from sklearn.model_selection import train_test_split\n",
    "from sklearn.neighbors import KNeighborsClassifier\n",
    "from sklearn.metrics import accuracy_score"
   ]
  },
  {
   "cell_type": "markdown",
   "metadata": {
    "id": "tdtdJADvAhYl"
   },
   "source": [
    "The goal of this project is to make a Computer Vision and Machine Learning training model to determine wheather an image was taken in the day or night. At the end, we will use our model and sample images to test our model and determine our accuray score."
   ]
  },
  {
   "cell_type": "markdown",
   "metadata": {
    "id": "qp8eVSw1AhYm"
   },
   "source": [
    "### 1. Prepare Dataset"
   ]
  },
  {
   "cell_type": "markdown",
   "metadata": {
    "id": "djry53O4AhYn"
   },
   "source": [
    "`prepare_dataset(imagesPath)` function takes in the path to the directory which contains two subdirectories `day` and `night`. Each of these subdirectories contain corresponding images, e.g., day directory contains all the day images and night contains night images. The function returns two lists; `image_list` that contains all the images and `labels` which contains either of two values, e.g., `day` or `night`."
   ]
  },
  {
   "cell_type": "code",
   "execution_count": 5,
   "metadata": {
    "id": "EmJUV3FQAhYn"
   },
   "outputs": [],
   "source": [
    "def prepare_dataset(imagesPath):\n",
    "    labels = []\n",
    "    images = []\n",
    "    \n",
    "    dayimagePath = imagesPath+\"/day\"\n",
    "    names = os.listdir(dayimagePath)\n",
    "\n",
    "    # Day Images\n",
    "    for name in names:\n",
    "        labels.append(name.split(\".\")[0])\n",
    "        \n",
    "    for name in names:\n",
    "        image_name = os.path.join(dayimagePath, name)\n",
    "        images.append(cv.imread(image_name))\n",
    "    \n",
    "    nightimagePath = imagesPath+\"/night\"\n",
    "    names = os.listdir(nightimagePath)  \n",
    "    \n",
    "    # Night Images\n",
    "    for name in names:\n",
    "        labels.append(name.split(\".\")[0])\n",
    "        \n",
    "    for name in names:\n",
    "        image_name = os.path.join(nightimagePath, name)\n",
    "        images.append(cv.imread(image_name))\n",
    "        \n",
    "    return images, labels"
   ]
  },
  {
   "cell_type": "markdown",
   "metadata": {
    "id": "QrXjm3MhAhYo"
   },
   "source": [
    "Image_list contains all the images and labels that contains corresponding label for that image. For example `image_list[0]` contains an array representing the day image and `labels[0]` contains'day' as a string."
   ]
  },
  {
   "cell_type": "code",
   "execution_count": 6,
   "metadata": {
    "id": "QTY6aoVvAhYp"
   },
   "outputs": [
    {
     "name": "stdout",
     "output_type": "stream",
     "text": [
      "240\n",
      "240\n"
     ]
    }
   ],
   "source": [
    "image_list, labels = prepare_dataset(\"./images/\")\n",
    "\n",
    "print(len(image_list))\n",
    "print(len(labels))"
   ]
  },
  {
   "cell_type": "markdown",
   "metadata": {
    "id": "GQqhKJU9AhYp"
   },
   "source": [
    "### 2. Resize an Image"
   ]
  },
  {
   "cell_type": "markdown",
   "metadata": {
    "id": "ju0xF2ysAhYq"
   },
   "source": [
    "`resize_images(image)` function resizes an image to a size of (600,600) and returns a 1D array of that image."
   ]
  },
  {
   "cell_type": "code",
   "execution_count": 7,
   "metadata": {
    "id": "SZVJkr4GAhYq"
   },
   "outputs": [],
   "source": [
    "def resize_images(image):\n",
    "    image_resize = []\n",
    "    size = (600, 600)\n",
    "    \n",
    "    for images in image:\n",
    "        image_resize.append(cv.resize(images, size).flatten())\n",
    "    \n",
    "    return image_resize\n"
   ]
  },
  {
   "cell_type": "markdown",
   "metadata": {
    "id": "gaujhca5AhYr"
   },
   "source": [
    "### 3. Encode Labels to Numeric Values"
   ]
  },
  {
   "cell_type": "markdown",
   "metadata": {
    "id": "o0betrQUAhYs"
   },
   "source": [
    "Machine learning algorithms understand only numeric values, convert labels which are in string into numeric values. `label_images(label)` function takes a label in string and converts it into a numeric value; `day = 1` and `night = 0`"
   ]
  },
  {
   "cell_type": "code",
   "execution_count": 8,
   "metadata": {
    "id": "C0IbqSmAAhYs"
   },
   "outputs": [],
   "source": [
    "def label_images(label):\n",
    "    label_numeric =[]\n",
    "    \n",
    "    imagePath = './images/day'\n",
    "    names = os.listdir(imagePath)\n",
    "    for i in range(len(names)):\n",
    "        label_numeric.append(1)\n",
    "        \n",
    "    imagePath = './images/night'\n",
    "    names = os.listdir(imagePath)\n",
    "    for i in range(len(names)):\n",
    "        label_numeric.append(0)\n",
    "        \n",
    "    return label_numeric"
   ]
  },
  {
   "cell_type": "markdown",
   "metadata": {
    "id": "wgfUMPfEAhYs"
   },
   "source": [
    "### 4. Preprocess Images and Labels "
   ]
  },
  {
   "cell_type": "markdown",
   "metadata": {
    "id": "LudA9WysAhYt"
   },
   "source": [
    "Preprocess each image so that each image is a 1D array of (600,600) and labels are numeric values. This function returns two lists; `image_list` containing all the resized images and `label_list` containing all the corresponding numeric labels for these images."
   ]
  },
  {
   "cell_type": "code",
   "execution_count": 9,
   "metadata": {
    "id": "1eHIiUbZAhYt"
   },
   "outputs": [],
   "source": [
    "def preprocess_images(image_list, labels):\n",
    "    return resize_images(image_list), label_images(labels)\n",
    "    "
   ]
  },
  {
   "cell_type": "markdown",
   "metadata": {
    "id": "Yks2I0RIAhYt"
   },
   "source": [
    "Populate the `preprocessed_images` and `preprocessed_labels`. Now have `preprocessed_images` and `preprocessed_labels` split into train and test datasets."
   ]
  },
  {
   "cell_type": "code",
   "execution_count": 10,
   "metadata": {
    "id": "1W3oMELDAhYu"
   },
   "outputs": [
    {
     "name": "stdout",
     "output_type": "stream",
     "text": [
      "240\n",
      "240\n",
      "[1, 1, 1, 1, 1, 1, 1, 1, 1, 1, 1, 1, 1, 1, 1, 1, 1, 1, 1, 1, 1, 1, 1, 1, 1, 1, 1, 1, 1, 1, 1, 1, 1, 1, 1, 1, 1, 1, 1, 1, 1, 1, 1, 1, 1, 1, 1, 1, 1, 1, 1, 1, 1, 1, 1, 1, 1, 1, 1, 1, 1, 1, 1, 1, 1, 1, 1, 1, 1, 1, 1, 1, 1, 1, 1, 1, 1, 1, 1, 1, 1, 1, 1, 1, 1, 1, 1, 1, 1, 1, 1, 1, 1, 1, 1, 1, 1, 1, 1, 1, 1, 1, 1, 1, 1, 1, 1, 1, 1, 1, 1, 1, 1, 1, 1, 1, 1, 1, 1, 1, 0, 0, 0, 0, 0, 0, 0, 0, 0, 0, 0, 0, 0, 0, 0, 0, 0, 0, 0, 0, 0, 0, 0, 0, 0, 0, 0, 0, 0, 0, 0, 0, 0, 0, 0, 0, 0, 0, 0, 0, 0, 0, 0, 0, 0, 0, 0, 0, 0, 0, 0, 0, 0, 0, 0, 0, 0, 0, 0, 0, 0, 0, 0, 0, 0, 0, 0, 0, 0, 0, 0, 0, 0, 0, 0, 0, 0, 0, 0, 0, 0, 0, 0, 0, 0, 0, 0, 0, 0, 0, 0, 0, 0, 0, 0, 0, 0, 0, 0, 0, 0, 0, 0, 0, 0, 0, 0, 0, 0, 0, 0, 0, 0, 0, 0, 0, 0, 0, 0, 0]\n",
      "(240, 1080000)\n"
     ]
    }
   ],
   "source": [
    "preprocessed_images, preprocessed_labels = preprocess_images(image_list, labels)\n",
    "\n",
    "print(len(preprocessed_images))\n",
    "print(len(preprocessed_labels))\n",
    "print(preprocessed_labels)\n",
    "print(np.shape(preprocessed_images))"
   ]
  },
  {
   "cell_type": "markdown",
   "metadata": {
    "id": "chnLr_9LAhYu"
   },
   "source": [
    "### 5. Split into Train and Test datasets"
   ]
  },
  {
   "cell_type": "markdown",
   "metadata": {
    "id": "juyREOplAhYu"
   },
   "source": [
    "Split data into train and test datasets so that we can use train dataset for training our model and test dataset for testing our model's accuracy."
   ]
  },
  {
   "cell_type": "code",
   "execution_count": 11,
   "metadata": {
    "id": "W8KT3BiuAhYu"
   },
   "outputs": [],
   "source": [
    "train_X_label, test_X_label, train_y_label, test_y_label = train_test_split(preprocessed_images, preprocessed_labels, test_size=0.25)"
   ]
  },
  {
   "cell_type": "markdown",
   "metadata": {
    "id": "MJFSjvciAhYv"
   },
   "source": [
    "### 6. Training a KNN Model"
   ]
  },
  {
   "cell_type": "markdown",
   "metadata": {
    "id": "BxshTwHAAhYv"
   },
   "source": [
    "`KNeighborsClassifier` model to train the data."
   ]
  },
  {
   "cell_type": "code",
   "execution_count": 13,
   "metadata": {
    "id": "-kgBISBpAhYv"
   },
   "outputs": [
    {
     "data": {
      "text/plain": [
       "KNeighborsClassifier()"
      ]
     },
     "execution_count": 13,
     "metadata": {},
     "output_type": "execute_result"
    }
   ],
   "source": [
    "knn = KNeighborsClassifier()\n",
    "knn.fit(train_X_label, train_y_label)"
   ]
  },
  {
   "cell_type": "markdown",
   "metadata": {
    "id": "o68mroXkAhYw"
   },
   "source": [
    "### 7. Testing the Accuracy"
   ]
  },
  {
   "cell_type": "markdown",
   "metadata": {
    "id": "DrOuMQnvAhYw"
   },
   "source": [
    "Test model using test dataset to predict."
   ]
  },
  {
   "cell_type": "code",
   "execution_count": 15,
   "metadata": {
    "id": "ppzO-lLWAhYw"
   },
   "outputs": [
    {
     "name": "stdout",
     "output_type": "stream",
     "text": [
      "98.33333333333333 %\n",
      "(60, 1080000)\n"
     ]
    }
   ],
   "source": [
    "predictions = knn.predict(test_X_label)\n",
    "score = accuracy_score(predictions, test_y_label)\n",
    "print(score*100, \"%\")\n",
    "print(np.shape(test_X_label))"
   ]
  },
  {
   "cell_type": "markdown",
   "metadata": {
    "id": "bLfsi6zMAhYw"
   },
   "source": [
    "### 8. Final Testing"
   ]
  },
  {
   "cell_type": "markdown",
   "metadata": {
    "id": "JAcJHUf2AhYw"
   },
   "source": [
    "Using two sample images, `test_day_image.jpg` and `test_night_image.jpg`, we are testing whether my model predicts them successfully or not."
   ]
  },
  {
   "cell_type": "code",
   "execution_count": 16,
   "metadata": {
    "id": "Hhto6kfHAhYw"
   },
   "outputs": [
    {
     "name": "stdout",
     "output_type": "stream",
     "text": [
      "100.0 %\n"
     ]
    }
   ],
   "source": [
    "# Testing night image\n",
    "night_image = []\n",
    "night_label = []\n",
    "\n",
    "size = (600,600)\n",
    "\n",
    "image_test = cv.imread('./images/test_night_image.jpg')\n",
    "night_image.append(cv.resize(image_test, size).flatten())\n",
    "night_label.append(0)\n",
    "\n",
    "\n",
    "predictions = knn.predict(night_image)\n",
    "score = accuracy_score(predictions, night_label)\n",
    "print(score*100, \"%\")"
   ]
  },
  {
   "cell_type": "code",
   "execution_count": 17,
   "metadata": {
    "id": "bYOGAoKRAhYx"
   },
   "outputs": [
    {
     "name": "stdout",
     "output_type": "stream",
     "text": [
      "100.0 %\n"
     ]
    }
   ],
   "source": [
    "# Testing day image\n",
    "day_image = []\n",
    "day_label = []\n",
    "\n",
    "size = (600,600)\n",
    "\n",
    "image_test = cv.imread('./images/test_day_image.jpg')\n",
    "day_image.append(cv.resize(image_test, size).flatten())\n",
    "day_label.append(1)\n",
    "\n",
    "\n",
    "predictions = knn.predict(day_image)\n",
    "score = accuracy_score(predictions, day_label)\n",
    "print(score*100, \"%\")"
   ]
  },
  {
   "cell_type": "code",
   "execution_count": null,
   "metadata": {},
   "outputs": [],
   "source": []
  }
 ],
 "metadata": {
  "colab": {
   "name": "Computer Vision and Machine Learning.ipynb",
   "provenance": []
  },
  "kernelspec": {
   "display_name": "Python 3 (ipykernel)",
   "language": "python",
   "name": "python3"
  },
  "language_info": {
   "codemirror_mode": {
    "name": "ipython",
    "version": 3
   },
   "file_extension": ".py",
   "mimetype": "text/x-python",
   "name": "python",
   "nbconvert_exporter": "python",
   "pygments_lexer": "ipython3",
   "version": "3.9.7"
  }
 },
 "nbformat": 4,
 "nbformat_minor": 1
}
